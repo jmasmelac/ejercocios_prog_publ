{
 "cells": [
  {
   "cell_type": "markdown",
   "metadata": {},
   "source": [
    "calculador de columnas"
   ]
  },
  {
   "cell_type": "code",
   "execution_count": 5,
   "metadata": {},
   "outputs": [
    {
     "name": "stdout",
     "output_type": "stream",
     "text": [
      "El volumen de la columna es: 0.65973432 m³\n",
      "la cantidad de concreto que se necesita es  5.93760888 m³\n"
     ]
    }
   ],
   "source": [
    "diámetro_columna = float(input(\"Ingrese el diámetro de la columna en cm: \"))\n",
    "alto_columna = float(input(\"Ingrese el alto de la columna en cm: \"))\n",
    "\n",
    "# Convertimos de cm a metros\n",
    "diámetro_columna_m = diámetro_columna / 100\n",
    "alto_columna_m = alto_columna / 100\n",
    "\n",
    "# Calcula el volumen en metros cúbicos\n",
    "volumen = 3.141592 * (diámetro_columna_m / 2) ** 2 * alto_columna_m\n",
    "\n",
    "print(\"El volumen de la columna es:\", volumen, \"m³\")\n",
    "\n",
    "cantidad_columnas=float(input(\"ingrese la cantidad de columnas\"))\n",
    "\n",
    "cantidad_concreto=cantidad_columnas*volumen\n",
    "\n",
    "print(\"la cantidad de concreto que se necesita es \",cantidad_concreto,\"m³\")\n"
   ]
  },
  {
   "cell_type": "code",
   "execution_count": null,
   "metadata": {},
   "outputs": [],
   "source": []
  }
 ],
 "metadata": {
  "kernelspec": {
   "display_name": "Python 3",
   "language": "python",
   "name": "python3"
  },
  "language_info": {
   "codemirror_mode": {
    "name": "ipython",
    "version": 3
   },
   "file_extension": ".py",
   "mimetype": "text/x-python",
   "name": "python",
   "nbconvert_exporter": "python",
   "pygments_lexer": "ipython3",
   "version": "3.13.0"
  }
 },
 "nbformat": 4,
 "nbformat_minor": 2
}
